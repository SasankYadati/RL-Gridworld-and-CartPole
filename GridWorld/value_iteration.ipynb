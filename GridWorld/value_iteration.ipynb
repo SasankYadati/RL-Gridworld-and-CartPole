{
 "cells": [
  {
   "cell_type": "code",
   "execution_count": 5,
   "metadata": {},
   "outputs": [],
   "source": [
    "import torch as t\n",
    "from grid_world import STATES, ACTIONS, GridWorld\n",
    "from agent import ValueIterationAgent, run_episode\n",
    "import pandas as pd\n",
    "import plotly.express as px"
   ]
  },
  {
   "cell_type": "code",
   "execution_count": 2,
   "metadata": {},
   "outputs": [],
   "source": [
    "results = []"
   ]
  },
  {
   "cell_type": "code",
   "execution_count": 3,
   "metadata": {},
   "outputs": [
    {
     "name": "stdout",
     "output_type": "stream",
     "text": [
      "20 tensor([4.4639, 4.4195, 3.9082, 3.9344, 4.4741, 5.0868, 5.0627, 4.4172, 4.0458,\n",
      "        4.6147, 5.8331, 5.8047, 0.0000, 0.0000, 6.6278, 6.7212, 6.6091, 7.5289,\n",
      "        8.5165, 9.6259, 8.3619, 7.3846, 8.4587, 9.6916, 0.0000])\n"
     ]
    }
   ],
   "source": [
    "n_states, n_actions = len(STATES), len(ACTIONS)\n",
    "gw = GridWorld()\n",
    "terminal_states, transistion_fn, reward_fn = [gw.goal_state], gw.getTransistionFn(), gw.getRewardFn()\n",
    "\n",
    "agent = ValueIterationAgent(\n",
    "    n_states,\n",
    "    n_actions, \n",
    "    gamma=0.9, \n",
    "    theta=0.001, \n",
    "    terminal_states=[gw.goal_state],\n",
    "    transition_fn=transistion_fn,\n",
    "    reward_fn=reward_fn)"
   ]
  },
  {
   "cell_type": "code",
   "execution_count": 10,
   "metadata": {},
   "outputs": [
    {
     "data": {
      "text/plain": [
       "10.0"
      ]
     },
     "execution_count": 10,
     "metadata": {},
     "output_type": "execute_result"
    }
   ],
   "source": [
    "ret = run_episode(agent, GridWorld())\n",
    "ret"
   ]
  },
  {
   "cell_type": "code",
   "execution_count": null,
   "metadata": {},
   "outputs": [],
   "source": []
  }
 ],
 "metadata": {
  "kernelspec": {
   "display_name": "rlassignment",
   "language": "python",
   "name": "python3"
  },
  "language_info": {
   "codemirror_mode": {
    "name": "ipython",
    "version": 3
   },
   "file_extension": ".py",
   "mimetype": "text/x-python",
   "name": "python",
   "nbconvert_exporter": "python",
   "pygments_lexer": "ipython3",
   "version": "3.10.13"
  }
 },
 "nbformat": 4,
 "nbformat_minor": 2
}

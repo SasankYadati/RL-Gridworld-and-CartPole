{
 "cells": [
  {
   "cell_type": "code",
   "execution_count": 1,
   "metadata": {},
   "outputs": [
    {
     "name": "stderr",
     "output_type": "stream",
     "text": [
      "C:\\Users\\saisa\\AppData\\Local\\Temp\\ipykernel_6776\\4150561445.py:4: DeprecationWarning: \n",
      "Pyarrow will become a required dependency of pandas in the next major release of pandas (pandas 3.0),\n",
      "(to allow more performant data types, such as the Arrow string type, and better interoperability with other libraries)\n",
      "but was not found to be installed on your system.\n",
      "If this would cause problems for you,\n",
      "please provide us feedback at https://github.com/pandas-dev/pandas/issues/54466\n",
      "        \n",
      "  import pandas as pd\n"
     ]
    }
   ],
   "source": [
    "import torch as t\n",
    "from grid_world import STATES, ACTIONS, GridWorld\n",
    "from agent import ValueIterationAgent\n",
    "import pandas as pd\n",
    "import plotly.express as px"
   ]
  },
  {
   "cell_type": "code",
   "execution_count": 2,
   "metadata": {},
   "outputs": [],
   "source": [
    "results = []"
   ]
  },
  {
   "cell_type": "code",
   "execution_count": 6,
   "metadata": {},
   "outputs": [
    {
     "name": "stdout",
     "output_type": "stream",
     "text": [
      "20 tensor([4.4639, 4.4195, 3.9082, 3.9344, 4.4741, 5.0868, 5.0627, 4.4172, 4.0457,\n",
      "        4.6147, 5.8331, 5.8047, 6.5688, 6.8556, 6.6278, 6.7212, 6.6091, 7.5289,\n",
      "        8.5165, 9.6259, 8.3619, 7.3846, 8.4587, 9.6916, 0.0000])\n"
     ]
    }
   ],
   "source": [
    "n_states, n_actions = len(STATES), len(ACTIONS)\n",
    "gw = GridWorld()\n",
    "terminal_states, transistion_fn, reward_fn = [gw.goal_state], gw.getTransistionFn(), gw.getRewardFn()\n",
    "\n",
    "agent = ValueIterationAgent(\n",
    "    n_states,\n",
    "    n_actions, \n",
    "    gamma=0.9, \n",
    "    theta=0.001, \n",
    "    terminal_states=[gw.goal_state],\n",
    "    transition_fn=transistion_fn,\n",
    "    reward_fn=reward_fn)"
   ]
  },
  {
   "cell_type": "code",
   "execution_count": null,
   "metadata": {},
   "outputs": [],
   "source": []
  }
 ],
 "metadata": {
  "kernelspec": {
   "display_name": "rlassignment",
   "language": "python",
   "name": "python3"
  },
  "language_info": {
   "codemirror_mode": {
    "name": "ipython",
    "version": 3
   },
   "file_extension": ".py",
   "mimetype": "text/x-python",
   "name": "python",
   "nbconvert_exporter": "python",
   "pygments_lexer": "ipython3",
   "version": "3.10.13"
  }
 },
 "nbformat": 4,
 "nbformat_minor": 2
}

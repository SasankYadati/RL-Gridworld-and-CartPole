{
 "cells": [
  {
   "cell_type": "code",
   "execution_count": 1,
   "metadata": {},
   "outputs": [],
   "source": [
    "import torch as t"
   ]
  },
  {
   "cell_type": "code",
   "execution_count": 2,
   "metadata": {},
   "outputs": [
    {
     "data": {
      "text/plain": [
       "<torch._C.Generator at 0x165848b67b0>"
      ]
     },
     "execution_count": 2,
     "metadata": {},
     "output_type": "execute_result"
    }
   ],
   "source": [
    "t.random.manual_seed(42)"
   ]
  },
  {
   "cell_type": "code",
   "execution_count": 3,
   "metadata": {},
   "outputs": [],
   "source": [
    "from grid_world import GridWorld\n",
    "from grid_world import STATES, ACTIONS\n",
    "from agent import Agent, run_episode"
   ]
  },
  {
   "cell_type": "code",
   "execution_count": 4,
   "metadata": {},
   "outputs": [],
   "source": [
    "n_states, n_actions = len(STATES), len(ACTIONS)"
   ]
  },
  {
   "cell_type": "code",
   "execution_count": 5,
   "metadata": {},
   "outputs": [],
   "source": [
    "N = 20\n",
    "TRIALS = 300"
   ]
  },
  {
   "cell_type": "code",
   "execution_count": 6,
   "metadata": {},
   "outputs": [
    {
     "name": "stdout",
     "output_type": "stream",
     "text": [
      "trial=0, avg return=-87.5\n",
      "trial=4, avg return=-41.5\n",
      "trial=5, avg return=-30.0\n",
      "trial=6, avg return=-22.5\n",
      "trial=9, avg return=-11.5\n",
      "trial=10, avg return=7.5\n",
      "trial=15, avg return=8.5\n",
      "trial=20, avg return=9.0\n",
      "trial=26, avg return=10.0\n"
     ]
    }
   ],
   "source": [
    "agent = Agent(n_states, n_actions, sigma=0.9)\n",
    "G = 0\n",
    "for i in range(N):\n",
    "    G += run_episode(agent, GridWorld())\n",
    "\n",
    "returns = [G]\n",
    "\n",
    "for trial in range(TRIALS):\n",
    "    G_ = 0\n",
    "    theta = agent.theta\n",
    "    theta_ = agent.sampleTheta()\n",
    "    agent.theta = theta_\n",
    "    for i in range(N):\n",
    "        G_ += run_episode(agent, GridWorld())\n",
    "    agent.theta = theta\n",
    "    returns.append(G_)\n",
    "\n",
    "    if G_ > G:\n",
    "        agent.theta = theta_\n",
    "        G = G_\n",
    "        print(f\"trial={trial}, avg return={G_/N}\")"
   ]
  },
  {
   "cell_type": "code",
   "execution_count": null,
   "metadata": {},
   "outputs": [],
   "source": []
  }
 ],
 "metadata": {
  "kernelspec": {
   "display_name": "rlassignment",
   "language": "python",
   "name": "python3"
  },
  "language_info": {
   "codemirror_mode": {
    "name": "ipython",
    "version": 3
   },
   "file_extension": ".py",
   "mimetype": "text/x-python",
   "name": "python",
   "nbconvert_exporter": "python",
   "pygments_lexer": "ipython3",
   "version": "3.10.13"
  }
 },
 "nbformat": 4,
 "nbformat_minor": 2
}

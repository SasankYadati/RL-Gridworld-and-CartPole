{
 "cells": [
  {
   "cell_type": "code",
   "execution_count": 1,
   "metadata": {},
   "outputs": [],
   "source": [
    "from cart_pole import CartPole\n",
    "from agent import ParameterizedPolicyAgent, CrossEntropyAgent\n",
    "import plotly.express as px\n",
    "import pandas as pd"
   ]
  },
  {
   "cell_type": "code",
   "execution_count": 2,
   "metadata": {},
   "outputs": [],
   "source": [
    "results = []"
   ]
  },
  {
   "cell_type": "code",
   "execution_count": 3,
   "metadata": {},
   "outputs": [
    {
     "name": "stdout",
     "output_type": "stream",
     "text": [
      "trial=0, avg return=33.0\n",
      "trial=2, avg return=41.0\n",
      "trial=3, avg return=54.0\n",
      "trial=4, avg return=55.0\n",
      "trial=6, avg return=61.0\n",
      "trial=7, avg return=63.0\n",
      "trial=8, avg return=69.0\n",
      "trial=9, avg return=72.0\n",
      "trial=10, avg return=78.0\n",
      "trial=14, avg return=85.0\n",
      "trial=15, avg return=88.0\n",
      "trial=16, avg return=96.0\n",
      "trial=18, avg return=99.0\n",
      "trial=19, avg return=103.0\n",
      "trial=23, avg return=108.0\n",
      "trial=26, avg return=152.0\n",
      "trial=39, avg return=178.0\n",
      "trial=90, avg return=183.0\n",
      "trial=0, avg return=33.0\n",
      "trial=9, avg return=37.0\n",
      "trial=16, avg return=56.0\n",
      "trial=32, avg return=68.0\n",
      "trial=42, avg return=74.0\n",
      "trial=67, avg return=79.0\n",
      "trial=85, avg return=83.0\n",
      "trial=95, avg return=85.0\n",
      "trial=0, avg return=49.0\n",
      "trial=3, avg return=61.0\n",
      "trial=4, avg return=97.0\n",
      "trial=8, avg return=173.0\n",
      "trial=46, avg return=174.0\n"
     ]
    }
   ],
   "source": [
    "N_EPISODES = 10\n",
    "N_TRIALS = 100\n",
    "for sigma in [0.1, 0.3, 0.9]:\n",
    "    pp_agent = ParameterizedPolicyAgent(sigma)\n",
    "    results.extend(pp_agent.hillSearch(CartPole(), N_EPISODES, N_TRIALS))"
   ]
  },
  {
   "cell_type": "code",
   "execution_count": 4,
   "metadata": {},
   "outputs": [],
   "source": [
    "df = pd.DataFrame.from_records([r.to_dict() for r in results])"
   ]
  },
  {
   "cell_type": "code",
   "execution_count": 5,
   "metadata": {},
   "outputs": [
    {
     "data": {
      "text/html": [
       "<div>\n",
       "<style scoped>\n",
       "    .dataframe tbody tr th:only-of-type {\n",
       "        vertical-align: middle;\n",
       "    }\n",
       "\n",
       "    .dataframe tbody tr th {\n",
       "        vertical-align: top;\n",
       "    }\n",
       "\n",
       "    .dataframe thead th {\n",
       "        text-align: right;\n",
       "    }\n",
       "</style>\n",
       "<table border=\"1\" class=\"dataframe\">\n",
       "  <thead>\n",
       "    <tr style=\"text-align: right;\">\n",
       "      <th></th>\n",
       "      <th>Sigma</th>\n",
       "      <th>Trial</th>\n",
       "      <th>Episode</th>\n",
       "      <th>Return</th>\n",
       "      <th>NumEpisodesPerTrial</th>\n",
       "      <th>NumTrials</th>\n",
       "    </tr>\n",
       "  </thead>\n",
       "  <tbody>\n",
       "    <tr>\n",
       "      <th>6</th>\n",
       "      <td>0.1</td>\n",
       "      <td>9</td>\n",
       "      <td>1.0</td>\n",
       "      <td>69.0</td>\n",
       "      <td>10.0</td>\n",
       "      <td>100.0</td>\n",
       "    </tr>\n",
       "    <tr>\n",
       "      <th>1</th>\n",
       "      <td>0.1</td>\n",
       "      <td>3</td>\n",
       "      <td>1.0</td>\n",
       "      <td>41.0</td>\n",
       "      <td>10.0</td>\n",
       "      <td>100.0</td>\n",
       "    </tr>\n",
       "    <tr>\n",
       "      <th>18</th>\n",
       "      <td>0.3</td>\n",
       "      <td>1</td>\n",
       "      <td>1.0</td>\n",
       "      <td>33.0</td>\n",
       "      <td>10.0</td>\n",
       "      <td>100.0</td>\n",
       "    </tr>\n",
       "    <tr>\n",
       "      <th>2</th>\n",
       "      <td>0.1</td>\n",
       "      <td>4</td>\n",
       "      <td>1.0</td>\n",
       "      <td>54.0</td>\n",
       "      <td>10.0</td>\n",
       "      <td>100.0</td>\n",
       "    </tr>\n",
       "    <tr>\n",
       "      <th>0</th>\n",
       "      <td>0.1</td>\n",
       "      <td>1</td>\n",
       "      <td>1.0</td>\n",
       "      <td>33.0</td>\n",
       "      <td>10.0</td>\n",
       "      <td>100.0</td>\n",
       "    </tr>\n",
       "    <tr>\n",
       "      <th>22</th>\n",
       "      <td>0.3</td>\n",
       "      <td>43</td>\n",
       "      <td>1.0</td>\n",
       "      <td>74.0</td>\n",
       "      <td>10.0</td>\n",
       "      <td>100.0</td>\n",
       "    </tr>\n",
       "    <tr>\n",
       "      <th>13</th>\n",
       "      <td>0.1</td>\n",
       "      <td>20</td>\n",
       "      <td>1.0</td>\n",
       "      <td>103.0</td>\n",
       "      <td>10.0</td>\n",
       "      <td>100.0</td>\n",
       "    </tr>\n",
       "    <tr>\n",
       "      <th>7</th>\n",
       "      <td>0.1</td>\n",
       "      <td>10</td>\n",
       "      <td>1.0</td>\n",
       "      <td>72.0</td>\n",
       "      <td>10.0</td>\n",
       "      <td>100.0</td>\n",
       "    </tr>\n",
       "    <tr>\n",
       "      <th>12</th>\n",
       "      <td>0.1</td>\n",
       "      <td>19</td>\n",
       "      <td>1.0</td>\n",
       "      <td>99.0</td>\n",
       "      <td>10.0</td>\n",
       "      <td>100.0</td>\n",
       "    </tr>\n",
       "    <tr>\n",
       "      <th>27</th>\n",
       "      <td>0.9</td>\n",
       "      <td>4</td>\n",
       "      <td>1.0</td>\n",
       "      <td>61.0</td>\n",
       "      <td>10.0</td>\n",
       "      <td>100.0</td>\n",
       "    </tr>\n",
       "  </tbody>\n",
       "</table>\n",
       "</div>"
      ],
      "text/plain": [
       "    Sigma  Trial  Episode  Return  NumEpisodesPerTrial  NumTrials\n",
       "6     0.1      9      1.0    69.0                 10.0      100.0\n",
       "1     0.1      3      1.0    41.0                 10.0      100.0\n",
       "18    0.3      1      1.0    33.0                 10.0      100.0\n",
       "2     0.1      4      1.0    54.0                 10.0      100.0\n",
       "0     0.1      1      1.0    33.0                 10.0      100.0\n",
       "22    0.3     43      1.0    74.0                 10.0      100.0\n",
       "13    0.1     20      1.0   103.0                 10.0      100.0\n",
       "7     0.1     10      1.0    72.0                 10.0      100.0\n",
       "12    0.1     19      1.0    99.0                 10.0      100.0\n",
       "27    0.9      4      1.0    61.0                 10.0      100.0"
      ]
     },
     "execution_count": 5,
     "metadata": {},
     "output_type": "execute_result"
    }
   ],
   "source": [
    "avg_df = df.groupby(by=[\"Sigma\",\"Trial\"], as_index=False).agg('mean')\n",
    "std_df = df.groupby(by=[\"Sigma\",\"Trial\"], as_index=False).agg('std')\n",
    "std_err = (std_df[\"Return\"]/(N_EPISODES**0.5)).to_list()\n",
    "avg_df.sample(n=10)"
   ]
  },
  {
   "cell_type": "code",
   "execution_count": 6,
   "metadata": {},
   "outputs": [
    {
     "name": "stderr",
     "output_type": "stream",
     "text": [
      "c:\\Users\\saisa\\.conda\\envs\\rlassignment\\lib\\site-packages\\plotly\\express\\_core.py:2065: FutureWarning: When grouping with a length-1 list-like, you will need to pass a length-1 tuple to get_group in a future version of pandas. Pass `(name,)` instead of `name` to silence this warning.\n",
      "  sf: grouped.get_group(s if len(s) > 1 else s[0])\n"
     ]
    },
    {
     "data": {
      "application/vnd.plotly.v1+json": {
       "config": {
        "plotlyServerURL": "https://plot.ly"
       },
       "data": [
        {
         "error_y": {
          "array": [
           null,
           null,
           null,
           null,
           null,
           null,
           null,
           null,
           null,
           null,
           null,
           null,
           null,
           null,
           null,
           null,
           null,
           null
          ]
         },
         "hovertemplate": "Sigma=0.1<br>Trial=%{x}<br>Return=%{y}<extra></extra>",
         "legendgroup": "0.1",
         "line": {
          "color": "#636efa",
          "dash": "solid"
         },
         "marker": {
          "symbol": "circle"
         },
         "mode": "lines",
         "name": "0.1",
         "orientation": "v",
         "showlegend": true,
         "type": "scatter",
         "x": [
          1,
          3,
          4,
          5,
          7,
          8,
          9,
          10,
          11,
          15,
          16,
          17,
          19,
          20,
          24,
          27,
          40,
          91
         ],
         "xaxis": "x",
         "y": [
          33,
          41,
          54,
          55,
          61,
          63,
          69,
          72,
          78,
          85,
          88,
          96,
          99,
          103,
          108,
          152,
          178,
          183
         ],
         "yaxis": "y"
        },
        {
         "error_y": {
          "array": [
           null,
           null,
           null,
           null,
           null,
           null,
           null,
           null
          ]
         },
         "hovertemplate": "Sigma=0.3<br>Trial=%{x}<br>Return=%{y}<extra></extra>",
         "legendgroup": "0.3",
         "line": {
          "color": "#EF553B",
          "dash": "solid"
         },
         "marker": {
          "symbol": "circle"
         },
         "mode": "lines",
         "name": "0.3",
         "orientation": "v",
         "showlegend": true,
         "type": "scatter",
         "x": [
          1,
          10,
          17,
          33,
          43,
          68,
          86,
          96
         ],
         "xaxis": "x",
         "y": [
          33,
          37,
          56,
          68,
          74,
          79,
          83,
          85
         ],
         "yaxis": "y"
        },
        {
         "error_y": {
          "array": [
           null,
           null,
           null,
           null,
           null
          ]
         },
         "hovertemplate": "Sigma=0.9<br>Trial=%{x}<br>Return=%{y}<extra></extra>",
         "legendgroup": "0.9",
         "line": {
          "color": "#00cc96",
          "dash": "solid"
         },
         "marker": {
          "symbol": "circle"
         },
         "mode": "lines",
         "name": "0.9",
         "orientation": "v",
         "showlegend": true,
         "type": "scatter",
         "x": [
          1,
          4,
          5,
          9,
          47
         ],
         "xaxis": "x",
         "y": [
          49,
          61,
          97,
          173,
          174
         ],
         "yaxis": "y"
        }
       ],
       "layout": {
        "legend": {
         "title": {
          "text": "Sigma"
         },
         "tracegroupgap": 0
        },
        "template": {
         "data": {
          "bar": [
           {
            "error_x": {
             "color": "#2a3f5f"
            },
            "error_y": {
             "color": "#2a3f5f"
            },
            "marker": {
             "line": {
              "color": "#E5ECF6",
              "width": 0.5
             },
             "pattern": {
              "fillmode": "overlay",
              "size": 10,
              "solidity": 0.2
             }
            },
            "type": "bar"
           }
          ],
          "barpolar": [
           {
            "marker": {
             "line": {
              "color": "#E5ECF6",
              "width": 0.5
             },
             "pattern": {
              "fillmode": "overlay",
              "size": 10,
              "solidity": 0.2
             }
            },
            "type": "barpolar"
           }
          ],
          "carpet": [
           {
            "aaxis": {
             "endlinecolor": "#2a3f5f",
             "gridcolor": "white",
             "linecolor": "white",
             "minorgridcolor": "white",
             "startlinecolor": "#2a3f5f"
            },
            "baxis": {
             "endlinecolor": "#2a3f5f",
             "gridcolor": "white",
             "linecolor": "white",
             "minorgridcolor": "white",
             "startlinecolor": "#2a3f5f"
            },
            "type": "carpet"
           }
          ],
          "choropleth": [
           {
            "colorbar": {
             "outlinewidth": 0,
             "ticks": ""
            },
            "type": "choropleth"
           }
          ],
          "contour": [
           {
            "colorbar": {
             "outlinewidth": 0,
             "ticks": ""
            },
            "colorscale": [
             [
              0,
              "#0d0887"
             ],
             [
              0.1111111111111111,
              "#46039f"
             ],
             [
              0.2222222222222222,
              "#7201a8"
             ],
             [
              0.3333333333333333,
              "#9c179e"
             ],
             [
              0.4444444444444444,
              "#bd3786"
             ],
             [
              0.5555555555555556,
              "#d8576b"
             ],
             [
              0.6666666666666666,
              "#ed7953"
             ],
             [
              0.7777777777777778,
              "#fb9f3a"
             ],
             [
              0.8888888888888888,
              "#fdca26"
             ],
             [
              1,
              "#f0f921"
             ]
            ],
            "type": "contour"
           }
          ],
          "contourcarpet": [
           {
            "colorbar": {
             "outlinewidth": 0,
             "ticks": ""
            },
            "type": "contourcarpet"
           }
          ],
          "heatmap": [
           {
            "colorbar": {
             "outlinewidth": 0,
             "ticks": ""
            },
            "colorscale": [
             [
              0,
              "#0d0887"
             ],
             [
              0.1111111111111111,
              "#46039f"
             ],
             [
              0.2222222222222222,
              "#7201a8"
             ],
             [
              0.3333333333333333,
              "#9c179e"
             ],
             [
              0.4444444444444444,
              "#bd3786"
             ],
             [
              0.5555555555555556,
              "#d8576b"
             ],
             [
              0.6666666666666666,
              "#ed7953"
             ],
             [
              0.7777777777777778,
              "#fb9f3a"
             ],
             [
              0.8888888888888888,
              "#fdca26"
             ],
             [
              1,
              "#f0f921"
             ]
            ],
            "type": "heatmap"
           }
          ],
          "heatmapgl": [
           {
            "colorbar": {
             "outlinewidth": 0,
             "ticks": ""
            },
            "colorscale": [
             [
              0,
              "#0d0887"
             ],
             [
              0.1111111111111111,
              "#46039f"
             ],
             [
              0.2222222222222222,
              "#7201a8"
             ],
             [
              0.3333333333333333,
              "#9c179e"
             ],
             [
              0.4444444444444444,
              "#bd3786"
             ],
             [
              0.5555555555555556,
              "#d8576b"
             ],
             [
              0.6666666666666666,
              "#ed7953"
             ],
             [
              0.7777777777777778,
              "#fb9f3a"
             ],
             [
              0.8888888888888888,
              "#fdca26"
             ],
             [
              1,
              "#f0f921"
             ]
            ],
            "type": "heatmapgl"
           }
          ],
          "histogram": [
           {
            "marker": {
             "pattern": {
              "fillmode": "overlay",
              "size": 10,
              "solidity": 0.2
             }
            },
            "type": "histogram"
           }
          ],
          "histogram2d": [
           {
            "colorbar": {
             "outlinewidth": 0,
             "ticks": ""
            },
            "colorscale": [
             [
              0,
              "#0d0887"
             ],
             [
              0.1111111111111111,
              "#46039f"
             ],
             [
              0.2222222222222222,
              "#7201a8"
             ],
             [
              0.3333333333333333,
              "#9c179e"
             ],
             [
              0.4444444444444444,
              "#bd3786"
             ],
             [
              0.5555555555555556,
              "#d8576b"
             ],
             [
              0.6666666666666666,
              "#ed7953"
             ],
             [
              0.7777777777777778,
              "#fb9f3a"
             ],
             [
              0.8888888888888888,
              "#fdca26"
             ],
             [
              1,
              "#f0f921"
             ]
            ],
            "type": "histogram2d"
           }
          ],
          "histogram2dcontour": [
           {
            "colorbar": {
             "outlinewidth": 0,
             "ticks": ""
            },
            "colorscale": [
             [
              0,
              "#0d0887"
             ],
             [
              0.1111111111111111,
              "#46039f"
             ],
             [
              0.2222222222222222,
              "#7201a8"
             ],
             [
              0.3333333333333333,
              "#9c179e"
             ],
             [
              0.4444444444444444,
              "#bd3786"
             ],
             [
              0.5555555555555556,
              "#d8576b"
             ],
             [
              0.6666666666666666,
              "#ed7953"
             ],
             [
              0.7777777777777778,
              "#fb9f3a"
             ],
             [
              0.8888888888888888,
              "#fdca26"
             ],
             [
              1,
              "#f0f921"
             ]
            ],
            "type": "histogram2dcontour"
           }
          ],
          "mesh3d": [
           {
            "colorbar": {
             "outlinewidth": 0,
             "ticks": ""
            },
            "type": "mesh3d"
           }
          ],
          "parcoords": [
           {
            "line": {
             "colorbar": {
              "outlinewidth": 0,
              "ticks": ""
             }
            },
            "type": "parcoords"
           }
          ],
          "pie": [
           {
            "automargin": true,
            "type": "pie"
           }
          ],
          "scatter": [
           {
            "fillpattern": {
             "fillmode": "overlay",
             "size": 10,
             "solidity": 0.2
            },
            "type": "scatter"
           }
          ],
          "scatter3d": [
           {
            "line": {
             "colorbar": {
              "outlinewidth": 0,
              "ticks": ""
             }
            },
            "marker": {
             "colorbar": {
              "outlinewidth": 0,
              "ticks": ""
             }
            },
            "type": "scatter3d"
           }
          ],
          "scattercarpet": [
           {
            "marker": {
             "colorbar": {
              "outlinewidth": 0,
              "ticks": ""
             }
            },
            "type": "scattercarpet"
           }
          ],
          "scattergeo": [
           {
            "marker": {
             "colorbar": {
              "outlinewidth": 0,
              "ticks": ""
             }
            },
            "type": "scattergeo"
           }
          ],
          "scattergl": [
           {
            "marker": {
             "colorbar": {
              "outlinewidth": 0,
              "ticks": ""
             }
            },
            "type": "scattergl"
           }
          ],
          "scattermapbox": [
           {
            "marker": {
             "colorbar": {
              "outlinewidth": 0,
              "ticks": ""
             }
            },
            "type": "scattermapbox"
           }
          ],
          "scatterpolar": [
           {
            "marker": {
             "colorbar": {
              "outlinewidth": 0,
              "ticks": ""
             }
            },
            "type": "scatterpolar"
           }
          ],
          "scatterpolargl": [
           {
            "marker": {
             "colorbar": {
              "outlinewidth": 0,
              "ticks": ""
             }
            },
            "type": "scatterpolargl"
           }
          ],
          "scatterternary": [
           {
            "marker": {
             "colorbar": {
              "outlinewidth": 0,
              "ticks": ""
             }
            },
            "type": "scatterternary"
           }
          ],
          "surface": [
           {
            "colorbar": {
             "outlinewidth": 0,
             "ticks": ""
            },
            "colorscale": [
             [
              0,
              "#0d0887"
             ],
             [
              0.1111111111111111,
              "#46039f"
             ],
             [
              0.2222222222222222,
              "#7201a8"
             ],
             [
              0.3333333333333333,
              "#9c179e"
             ],
             [
              0.4444444444444444,
              "#bd3786"
             ],
             [
              0.5555555555555556,
              "#d8576b"
             ],
             [
              0.6666666666666666,
              "#ed7953"
             ],
             [
              0.7777777777777778,
              "#fb9f3a"
             ],
             [
              0.8888888888888888,
              "#fdca26"
             ],
             [
              1,
              "#f0f921"
             ]
            ],
            "type": "surface"
           }
          ],
          "table": [
           {
            "cells": {
             "fill": {
              "color": "#EBF0F8"
             },
             "line": {
              "color": "white"
             }
            },
            "header": {
             "fill": {
              "color": "#C8D4E3"
             },
             "line": {
              "color": "white"
             }
            },
            "type": "table"
           }
          ]
         },
         "layout": {
          "annotationdefaults": {
           "arrowcolor": "#2a3f5f",
           "arrowhead": 0,
           "arrowwidth": 1
          },
          "autotypenumbers": "strict",
          "coloraxis": {
           "colorbar": {
            "outlinewidth": 0,
            "ticks": ""
           }
          },
          "colorscale": {
           "diverging": [
            [
             0,
             "#8e0152"
            ],
            [
             0.1,
             "#c51b7d"
            ],
            [
             0.2,
             "#de77ae"
            ],
            [
             0.3,
             "#f1b6da"
            ],
            [
             0.4,
             "#fde0ef"
            ],
            [
             0.5,
             "#f7f7f7"
            ],
            [
             0.6,
             "#e6f5d0"
            ],
            [
             0.7,
             "#b8e186"
            ],
            [
             0.8,
             "#7fbc41"
            ],
            [
             0.9,
             "#4d9221"
            ],
            [
             1,
             "#276419"
            ]
           ],
           "sequential": [
            [
             0,
             "#0d0887"
            ],
            [
             0.1111111111111111,
             "#46039f"
            ],
            [
             0.2222222222222222,
             "#7201a8"
            ],
            [
             0.3333333333333333,
             "#9c179e"
            ],
            [
             0.4444444444444444,
             "#bd3786"
            ],
            [
             0.5555555555555556,
             "#d8576b"
            ],
            [
             0.6666666666666666,
             "#ed7953"
            ],
            [
             0.7777777777777778,
             "#fb9f3a"
            ],
            [
             0.8888888888888888,
             "#fdca26"
            ],
            [
             1,
             "#f0f921"
            ]
           ],
           "sequentialminus": [
            [
             0,
             "#0d0887"
            ],
            [
             0.1111111111111111,
             "#46039f"
            ],
            [
             0.2222222222222222,
             "#7201a8"
            ],
            [
             0.3333333333333333,
             "#9c179e"
            ],
            [
             0.4444444444444444,
             "#bd3786"
            ],
            [
             0.5555555555555556,
             "#d8576b"
            ],
            [
             0.6666666666666666,
             "#ed7953"
            ],
            [
             0.7777777777777778,
             "#fb9f3a"
            ],
            [
             0.8888888888888888,
             "#fdca26"
            ],
            [
             1,
             "#f0f921"
            ]
           ]
          },
          "colorway": [
           "#636efa",
           "#EF553B",
           "#00cc96",
           "#ab63fa",
           "#FFA15A",
           "#19d3f3",
           "#FF6692",
           "#B6E880",
           "#FF97FF",
           "#FECB52"
          ],
          "font": {
           "color": "#2a3f5f"
          },
          "geo": {
           "bgcolor": "white",
           "lakecolor": "white",
           "landcolor": "#E5ECF6",
           "showlakes": true,
           "showland": true,
           "subunitcolor": "white"
          },
          "hoverlabel": {
           "align": "left"
          },
          "hovermode": "closest",
          "mapbox": {
           "style": "light"
          },
          "paper_bgcolor": "white",
          "plot_bgcolor": "#E5ECF6",
          "polar": {
           "angularaxis": {
            "gridcolor": "white",
            "linecolor": "white",
            "ticks": ""
           },
           "bgcolor": "#E5ECF6",
           "radialaxis": {
            "gridcolor": "white",
            "linecolor": "white",
            "ticks": ""
           }
          },
          "scene": {
           "xaxis": {
            "backgroundcolor": "#E5ECF6",
            "gridcolor": "white",
            "gridwidth": 2,
            "linecolor": "white",
            "showbackground": true,
            "ticks": "",
            "zerolinecolor": "white"
           },
           "yaxis": {
            "backgroundcolor": "#E5ECF6",
            "gridcolor": "white",
            "gridwidth": 2,
            "linecolor": "white",
            "showbackground": true,
            "ticks": "",
            "zerolinecolor": "white"
           },
           "zaxis": {
            "backgroundcolor": "#E5ECF6",
            "gridcolor": "white",
            "gridwidth": 2,
            "linecolor": "white",
            "showbackground": true,
            "ticks": "",
            "zerolinecolor": "white"
           }
          },
          "shapedefaults": {
           "line": {
            "color": "#2a3f5f"
           }
          },
          "ternary": {
           "aaxis": {
            "gridcolor": "white",
            "linecolor": "white",
            "ticks": ""
           },
           "baxis": {
            "gridcolor": "white",
            "linecolor": "white",
            "ticks": ""
           },
           "bgcolor": "#E5ECF6",
           "caxis": {
            "gridcolor": "white",
            "linecolor": "white",
            "ticks": ""
           }
          },
          "title": {
           "x": 0.05
          },
          "xaxis": {
           "automargin": true,
           "gridcolor": "white",
           "linecolor": "white",
           "ticks": "",
           "title": {
            "standoff": 15
           },
           "zerolinecolor": "white",
           "zerolinewidth": 2
          },
          "yaxis": {
           "automargin": true,
           "gridcolor": "white",
           "linecolor": "white",
           "ticks": "",
           "title": {
            "standoff": 15
           },
           "zerolinecolor": "white",
           "zerolinewidth": 2
          }
         }
        },
        "title": {
         "text": "Parameterized Policy Search"
        },
        "xaxis": {
         "anchor": "y",
         "domain": [
          0,
          1
         ],
         "title": {
          "text": "Trial"
         }
        },
        "yaxis": {
         "anchor": "x",
         "domain": [
          0,
          1
         ],
         "title": {
          "text": "Return"
         }
        }
       }
      }
     },
     "metadata": {},
     "output_type": "display_data"
    }
   ],
   "source": [
    "fig = px.line(avg_df, x=\"Trial\", y=\"Return\", color=\"Sigma\", error_y=std_err, title=f\"Parameterized Policy Search\")\n",
    "fig.show()"
   ]
  },
  {
   "cell_type": "code",
   "execution_count": 7,
   "metadata": {},
   "outputs": [],
   "source": [
    "from agent import run_trial, run_exp"
   ]
  },
  {
   "cell_type": "code",
   "execution_count": 8,
   "metadata": {},
   "outputs": [
    {
     "name": "stdout",
     "output_type": "stream",
     "text": [
      "torch.Size([5, 5])\n"
     ]
    }
   ],
   "source": [
    "ce_agent = CrossEntropyAgent(10, 3, 0.9)"
   ]
  },
  {
   "cell_type": "code",
   "execution_count": 9,
   "metadata": {},
   "outputs": [
    {
     "name": "stdout",
     "output_type": "stream",
     "text": [
      "iter 1/500\n",
      "45.9\n",
      "iter 2/500\n"
     ]
    },
    {
     "name": "stderr",
     "output_type": "stream",
     "text": [
      "c:\\Users\\saisa\\RL-Gridworld\\CartPole\\agent.py:114: UserWarning:\n",
      "\n",
      "The use of `x.T` on tensors of dimension other than 2 to reverse their shape is deprecated and it will throw an error in a future release. Consider `x.mT` to transpose batches of matrices or `x.permute(*torch.arange(x.ndim - 1, -1, -1))` to reverse the dimensions of a tensor. (Triggered internally at C:\\cb\\pytorch_1000000000000\\work\\aten\\src\\ATen\\native\\TensorShape.cpp:3641.)\n",
      "\n"
     ]
    },
    {
     "name": "stdout",
     "output_type": "stream",
     "text": [
      "60.1\n",
      "iter 3/500\n",
      "69.6\n",
      "iter 4/500\n",
      "83.7\n",
      "iter 5/500\n",
      "98.8\n",
      "iter 6/500\n",
      "95.7\n",
      "iter 7/500\n",
      "102.6\n",
      "iter 8/500\n",
      "109.6\n",
      "iter 9/500\n",
      "116.6\n",
      "iter 10/500\n",
      "108.0\n",
      "iter 11/500\n",
      "116.1\n",
      "iter 12/500\n",
      "118.3\n",
      "iter 13/500\n",
      "125.6\n",
      "iter 14/500\n",
      "153.6\n",
      "iter 15/500\n",
      "203.3\n",
      "iter 16/500\n",
      "204.2\n",
      "iter 17/500\n",
      "220.2\n",
      "iter 18/500\n",
      "200.7\n",
      "iter 19/500\n",
      "246.0\n",
      "iter 20/500\n",
      "218.6\n",
      "iter 21/500\n",
      "226.0\n",
      "iter 22/500\n",
      "358.9\n",
      "iter 23/500\n",
      "408.5\n",
      "iter 24/500\n",
      "530.4\n",
      "iter 25/500\n",
      "458.8\n",
      "iter 26/500\n",
      "434.5\n",
      "iter 27/500\n",
      "411.4\n",
      "iter 28/500\n",
      "495.7\n",
      "iter 29/500\n",
      "555.2\n",
      "iter 30/500\n",
      "401.5\n",
      "iter 31/500\n",
      "491.0\n",
      "iter 32/500\n",
      "339.0\n",
      "iter 33/500\n",
      "401.9\n",
      "iter 34/500\n",
      "485.8\n",
      "iter 35/500\n",
      "359.8\n",
      "iter 36/500\n",
      "270.1\n",
      "iter 37/500\n",
      "446.9\n",
      "iter 38/500\n",
      "271.2\n",
      "iter 39/500\n",
      "220.9\n",
      "iter 40/500\n",
      "355.0\n",
      "iter 41/500\n",
      "320.0\n",
      "iter 42/500\n",
      "393.1\n",
      "iter 43/500\n",
      "423.8\n",
      "iter 44/500\n",
      "607.0\n",
      "iter 45/500\n",
      "514.5\n",
      "iter 46/500\n",
      "682.5\n",
      "iter 47/500\n",
      "628.6\n",
      "iter 48/500\n",
      "553.4\n",
      "iter 49/500\n",
      "551.4\n",
      "iter 50/500\n",
      "534.6\n",
      "iter 51/500\n",
      "584.6\n",
      "iter 52/500\n",
      "559.7\n",
      "iter 53/500\n",
      "611.3\n",
      "iter 54/500\n",
      "708.5\n",
      "iter 55/500\n",
      "465.5\n",
      "iter 56/500\n",
      "738.0\n",
      "iter 57/500\n",
      "770.9\n",
      "iter 58/500\n",
      "633.7\n",
      "iter 59/500\n",
      "712.4\n",
      "iter 60/500\n",
      "440.2\n",
      "iter 61/500\n",
      "563.3\n",
      "iter 62/500\n",
      "646.7\n",
      "iter 63/500\n",
      "721.3\n",
      "iter 64/500\n",
      "454.9\n",
      "iter 65/500\n",
      "255.0\n",
      "iter 66/500\n",
      "575.6\n",
      "iter 67/500\n",
      "621.9\n",
      "iter 68/500\n",
      "655.3\n",
      "iter 69/500\n",
      "676.5\n",
      "iter 70/500\n",
      "534.8\n",
      "iter 71/500\n",
      "638.1\n",
      "iter 72/500\n",
      "357.3\n",
      "iter 73/500\n",
      "559.4\n",
      "iter 74/500\n",
      "490.2\n",
      "iter 75/500\n",
      "710.7\n",
      "iter 76/500\n",
      "601.2\n",
      "iter 77/500\n",
      "792.4\n",
      "iter 78/500\n",
      "558.3\n",
      "iter 79/500\n",
      "562.0\n",
      "iter 80/500\n",
      "659.9\n",
      "iter 81/500\n",
      "783.1\n",
      "iter 82/500\n",
      "514.4\n",
      "iter 83/500\n",
      "712.9\n",
      "iter 84/500\n",
      "673.4\n",
      "iter 85/500\n",
      "621.0\n",
      "iter 86/500\n",
      "629.2\n",
      "iter 87/500\n",
      "796.3\n",
      "iter 88/500\n",
      "786.3\n",
      "iter 89/500\n",
      "850.1\n",
      "iter 90/500\n",
      "780.6\n",
      "iter 91/500\n",
      "767.8\n",
      "iter 92/500\n",
      "837.3\n",
      "iter 93/500\n",
      "516.2\n",
      "iter 94/500\n",
      "516.1\n",
      "iter 95/500\n",
      "918.0\n",
      "iter 96/500\n",
      "681.1\n",
      "iter 97/500\n",
      "774.1\n",
      "iter 98/500\n",
      "762.7\n",
      "iter 99/500\n",
      "504.4\n",
      "iter 100/500\n",
      "615.5\n",
      "iter 101/500\n",
      "512.9\n",
      "iter 102/500\n",
      "477.9\n",
      "iter 103/500\n",
      "485.9\n",
      "iter 104/500\n",
      "596.4\n",
      "iter 105/500\n",
      "380.6\n",
      "iter 106/500\n",
      "665.3\n",
      "iter 107/500\n",
      "584.3\n",
      "iter 108/500\n",
      "793.0\n",
      "iter 109/500\n",
      "741.8\n",
      "iter 110/500\n",
      "790.0\n",
      "iter 111/500\n",
      "827.6\n",
      "iter 112/500\n",
      "781.1\n",
      "iter 113/500\n",
      "722.5\n",
      "iter 114/500\n",
      "797.2\n",
      "iter 115/500\n",
      "723.0\n",
      "iter 116/500\n",
      "656.5\n",
      "iter 117/500\n",
      "785.9\n",
      "iter 118/500\n",
      "910.3\n",
      "iter 119/500\n",
      "826.5\n",
      "iter 120/500\n",
      "918.6\n",
      "iter 121/500\n",
      "874.0\n",
      "iter 122/500\n",
      "812.5\n",
      "iter 123/500\n",
      "648.1\n",
      "iter 124/500\n",
      "688.1\n",
      "iter 125/500\n",
      "577.7\n",
      "iter 126/500\n",
      "678.9\n",
      "iter 127/500\n",
      "743.2\n",
      "iter 128/500\n",
      "695.4\n",
      "iter 129/500\n",
      "741.0\n",
      "iter 130/500\n",
      "898.1\n",
      "iter 131/500\n",
      "824.2\n",
      "iter 132/500\n",
      "622.1\n",
      "iter 133/500\n",
      "683.2\n",
      "iter 134/500\n",
      "919.1\n",
      "iter 135/500\n",
      "884.7\n",
      "iter 136/500\n",
      "865.6\n",
      "iter 137/500\n",
      "801.1\n",
      "iter 138/500\n",
      "929.0\n",
      "iter 139/500\n",
      "810.3\n",
      "iter 140/500\n",
      "794.4\n",
      "iter 141/500\n",
      "804.2\n",
      "iter 142/500\n",
      "724.1\n",
      "iter 143/500\n",
      "741.2\n",
      "iter 144/500\n",
      "718.5\n",
      "iter 145/500\n",
      "683.9\n",
      "iter 146/500\n",
      "891.4\n",
      "iter 147/500\n",
      "881.9\n",
      "iter 148/500\n",
      "902.7\n",
      "iter 149/500\n",
      "659.1\n",
      "iter 150/500\n",
      "742.6\n",
      "iter 151/500\n",
      "842.8\n",
      "iter 152/500\n",
      "935.4\n",
      "iter 153/500\n",
      "756.5\n",
      "iter 154/500\n",
      "816.4\n",
      "iter 155/500\n",
      "777.3\n",
      "iter 156/500\n",
      "654.8\n",
      "iter 157/500\n",
      "986.5\n",
      "iter 158/500\n",
      "754.9\n",
      "iter 159/500\n",
      "786.3\n",
      "iter 160/500\n",
      "738.8\n",
      "iter 161/500\n",
      "754.4\n",
      "iter 162/500\n",
      "652.7\n",
      "iter 163/500\n",
      "886.4\n",
      "iter 164/500\n",
      "664.0\n",
      "iter 165/500\n",
      "968.3\n",
      "iter 166/500\n",
      "856.0\n",
      "iter 167/500\n",
      "784.0\n",
      "iter 168/500\n",
      "662.1\n",
      "iter 169/500\n",
      "764.3\n",
      "iter 170/500\n",
      "521.1\n",
      "iter 171/500\n",
      "706.2\n",
      "iter 172/500\n",
      "718.1\n",
      "iter 173/500\n",
      "837.5\n",
      "iter 174/500\n",
      "909.0\n",
      "iter 175/500\n",
      "844.0\n",
      "iter 176/500\n",
      "853.2\n",
      "iter 177/500\n",
      "774.7\n",
      "iter 178/500\n",
      "758.6\n",
      "iter 179/500\n",
      "766.7\n",
      "iter 180/500\n",
      "871.3\n",
      "iter 181/500\n",
      "964.4\n",
      "iter 182/500\n",
      "676.1\n",
      "iter 183/500\n",
      "748.2\n",
      "iter 184/500\n",
      "698.6\n",
      "iter 185/500\n",
      "751.6\n",
      "iter 186/500\n",
      "879.8\n",
      "iter 187/500\n",
      "870.0\n",
      "iter 188/500\n",
      "786.2\n",
      "iter 189/500\n",
      "868.6\n",
      "iter 190/500\n",
      "748.7\n",
      "iter 191/500\n",
      "607.9\n",
      "iter 192/500\n",
      "622.1\n",
      "iter 193/500\n",
      "697.1\n",
      "iter 194/500\n",
      "784.7\n",
      "iter 195/500\n",
      "881.7\n",
      "iter 196/500\n",
      "667.5\n",
      "iter 197/500\n",
      "752.6\n",
      "iter 198/500\n",
      "402.9\n",
      "iter 199/500\n",
      "706.1\n",
      "iter 200/500\n",
      "752.5\n",
      "iter 201/500\n",
      "720.3\n",
      "iter 202/500\n",
      "561.6\n",
      "iter 203/500\n",
      "523.0\n",
      "iter 204/500\n",
      "481.3\n",
      "iter 205/500\n",
      "556.5\n",
      "iter 206/500\n",
      "752.3\n",
      "iter 207/500\n",
      "698.5\n",
      "iter 208/500\n",
      "507.7\n",
      "iter 209/500\n",
      "556.2\n",
      "iter 210/500\n",
      "591.8\n",
      "iter 211/500\n",
      "855.6\n",
      "iter 212/500\n",
      "866.2\n",
      "iter 213/500\n",
      "745.6\n",
      "iter 214/500\n",
      "746.3\n",
      "iter 215/500\n",
      "784.5\n",
      "iter 216/500\n",
      "769.9\n",
      "iter 217/500\n",
      "596.3\n",
      "iter 218/500\n",
      "758.1\n",
      "iter 219/500\n",
      "785.1\n",
      "iter 220/500\n",
      "731.8\n",
      "iter 221/500\n",
      "670.8\n",
      "iter 222/500\n",
      "603.7\n",
      "iter 223/500\n",
      "672.5\n",
      "iter 224/500\n",
      "824.6\n",
      "iter 225/500\n",
      "814.4\n",
      "iter 226/500\n",
      "877.1\n",
      "iter 227/500\n",
      "879.1\n",
      "iter 228/500\n",
      "775.6\n",
      "iter 229/500\n",
      "898.2\n",
      "iter 230/500\n",
      "581.8\n",
      "iter 231/500\n",
      "846.0\n",
      "iter 232/500\n",
      "686.8\n",
      "iter 233/500\n",
      "906.8\n",
      "iter 234/500\n",
      "586.4\n",
      "iter 235/500\n",
      "744.9\n",
      "iter 236/500\n",
      "493.3\n",
      "iter 237/500\n",
      "528.2\n",
      "iter 238/500\n",
      "518.3\n",
      "iter 239/500\n",
      "668.6\n",
      "iter 240/500\n",
      "925.0\n",
      "iter 241/500\n",
      "873.7\n",
      "iter 242/500\n",
      "572.8\n",
      "iter 243/500\n",
      "597.3\n",
      "iter 244/500\n",
      "843.2\n",
      "iter 245/500\n",
      "860.6\n",
      "iter 246/500\n",
      "689.3\n",
      "iter 247/500\n",
      "725.1\n",
      "iter 248/500\n",
      "634.0\n",
      "iter 249/500\n",
      "557.4\n",
      "iter 250/500\n",
      "854.6\n",
      "iter 251/500\n",
      "916.1\n",
      "iter 252/500\n",
      "893.3\n",
      "iter 253/500\n",
      "896.1\n",
      "iter 254/500\n",
      "793.9\n",
      "iter 255/500\n",
      "964.8\n",
      "iter 256/500\n",
      "846.9\n",
      "iter 257/500\n",
      "608.9\n",
      "iter 258/500\n",
      "671.2\n",
      "iter 259/500\n",
      "675.3\n",
      "iter 260/500\n",
      "658.0\n",
      "iter 261/500\n",
      "821.9\n",
      "iter 262/500\n",
      "873.2\n",
      "iter 263/500\n",
      "939.2\n",
      "iter 264/500\n",
      "851.8\n",
      "iter 265/500\n",
      "851.6\n",
      "iter 266/500\n",
      "924.2\n",
      "iter 267/500\n",
      "887.6\n",
      "iter 268/500\n",
      "870.9\n",
      "iter 269/500\n",
      "880.3\n",
      "iter 270/500\n",
      "645.4\n",
      "iter 271/500\n",
      "785.8\n",
      "iter 272/500\n",
      "591.7\n",
      "iter 273/500\n",
      "894.9\n",
      "iter 274/500\n",
      "831.0\n",
      "iter 275/500\n",
      "904.9\n",
      "iter 276/500\n",
      "901.2\n",
      "iter 277/500\n",
      "963.0\n",
      "iter 278/500\n",
      "769.9\n",
      "iter 279/500\n",
      "723.3\n",
      "iter 280/500\n",
      "855.8\n",
      "iter 281/500\n",
      "881.8\n",
      "iter 282/500\n",
      "879.3\n",
      "iter 283/500\n",
      "703.5\n",
      "iter 284/500\n",
      "754.8\n",
      "iter 285/500\n",
      "439.9\n",
      "iter 286/500\n",
      "819.6\n",
      "iter 287/500\n",
      "909.1\n",
      "iter 288/500\n",
      "835.5\n",
      "iter 289/500\n",
      "759.8\n",
      "iter 290/500\n",
      "961.3\n",
      "iter 291/500\n",
      "804.0\n",
      "iter 292/500\n",
      "704.6\n",
      "iter 293/500\n",
      "840.3\n",
      "iter 294/500\n",
      "809.6\n",
      "iter 295/500\n",
      "901.3\n",
      "iter 296/500\n",
      "705.4\n",
      "iter 297/500\n",
      "730.1\n",
      "iter 298/500\n",
      "715.3\n",
      "iter 299/500\n",
      "890.0\n",
      "iter 300/500\n",
      "806.0\n",
      "iter 301/500\n",
      "756.6\n",
      "iter 302/500\n",
      "857.4\n",
      "iter 303/500\n",
      "833.0\n",
      "iter 304/500\n",
      "881.8\n",
      "iter 305/500\n",
      "940.7\n",
      "iter 306/500\n",
      "688.2\n",
      "iter 307/500\n",
      "813.6\n",
      "iter 308/500\n",
      "795.1\n",
      "iter 309/500\n",
      "876.8\n",
      "iter 310/500\n",
      "698.6\n",
      "iter 311/500\n",
      "863.2\n",
      "iter 312/500\n",
      "765.4\n",
      "iter 313/500\n",
      "688.2\n",
      "iter 314/500\n",
      "843.9\n",
      "iter 315/500\n",
      "656.0\n",
      "iter 316/500\n",
      "782.5\n",
      "iter 317/500\n",
      "873.0\n",
      "iter 318/500\n",
      "846.5\n",
      "iter 319/500\n",
      "779.2\n",
      "iter 320/500\n",
      "861.2\n",
      "iter 321/500\n",
      "837.5\n",
      "iter 322/500\n",
      "679.4\n",
      "iter 323/500\n",
      "886.3\n",
      "iter 324/500\n",
      "914.9\n",
      "iter 325/500\n",
      "846.3\n",
      "iter 326/500\n",
      "798.2\n",
      "iter 327/500\n",
      "908.8\n",
      "iter 328/500\n",
      "948.5\n",
      "iter 329/500\n",
      "816.8\n",
      "iter 330/500\n",
      "907.8\n",
      "iter 331/500\n",
      "875.9\n",
      "iter 332/500\n",
      "911.2\n",
      "iter 333/500\n",
      "910.9\n",
      "iter 334/500\n",
      "999.7\n",
      "iter 335/500\n",
      "977.7\n",
      "iter 336/500\n",
      "836.2\n",
      "iter 337/500\n",
      "697.7\n",
      "iter 338/500\n",
      "880.0\n",
      "iter 339/500\n",
      "605.2\n",
      "iter 340/500\n",
      "795.0\n",
      "iter 341/500\n",
      "856.8\n",
      "iter 342/500\n",
      "901.3\n",
      "iter 343/500\n",
      "907.5\n",
      "iter 344/500\n",
      "974.2\n",
      "iter 345/500\n",
      "577.6\n",
      "iter 346/500\n",
      "844.9\n",
      "iter 347/500\n",
      "818.9\n",
      "iter 348/500\n",
      "713.6\n",
      "iter 349/500\n",
      "941.3\n",
      "iter 350/500\n",
      "977.0\n",
      "iter 351/500\n",
      "789.1\n",
      "iter 352/500\n",
      "772.8\n",
      "iter 353/500\n",
      "835.2\n",
      "iter 354/500\n",
      "933.0\n",
      "iter 355/500\n",
      "809.0\n",
      "iter 356/500\n",
      "920.6\n",
      "iter 357/500\n",
      "674.9\n",
      "iter 358/500\n",
      "861.2\n",
      "iter 359/500\n",
      "856.0\n",
      "iter 360/500\n",
      "821.0\n",
      "iter 361/500\n",
      "931.5\n",
      "iter 362/500\n",
      "875.5\n",
      "iter 363/500\n",
      "739.5\n",
      "iter 364/500\n",
      "895.2\n",
      "iter 365/500\n",
      "882.7\n",
      "iter 366/500\n",
      "858.8\n",
      "iter 367/500\n",
      "948.4\n",
      "iter 368/500\n",
      "757.3\n",
      "iter 369/500\n",
      "682.2\n",
      "iter 370/500\n",
      "791.0\n",
      "iter 371/500\n",
      "883.7\n",
      "iter 372/500\n",
      "939.4\n",
      "iter 373/500\n",
      "659.8\n",
      "iter 374/500\n",
      "906.9\n",
      "iter 375/500\n",
      "935.0\n",
      "iter 376/500\n",
      "918.8\n",
      "iter 377/500\n",
      "773.2\n",
      "iter 378/500\n",
      "864.6\n",
      "iter 379/500\n",
      "816.0\n",
      "iter 380/500\n",
      "959.2\n",
      "iter 381/500\n",
      "730.0\n",
      "iter 382/500\n",
      "784.2\n",
      "iter 383/500\n",
      "1002.0\n",
      "iter 384/500\n",
      "834.3\n",
      "iter 385/500\n",
      "591.8\n",
      "iter 386/500\n",
      "564.6\n",
      "iter 387/500\n",
      "653.8\n",
      "iter 388/500\n",
      "671.3\n",
      "iter 389/500\n",
      "929.6\n",
      "iter 390/500\n",
      "513.5\n",
      "iter 391/500\n",
      "473.2\n",
      "iter 392/500\n",
      "487.6\n",
      "iter 393/500\n",
      "913.2\n",
      "iter 394/500\n",
      "920.6\n",
      "iter 395/500\n",
      "811.1\n",
      "iter 396/500\n",
      "970.0\n",
      "iter 397/500\n",
      "926.7\n",
      "iter 398/500\n",
      "1002.0\n",
      "iter 399/500\n",
      "867.4\n",
      "iter 400/500\n",
      "851.4\n",
      "iter 401/500\n",
      "858.9\n",
      "iter 402/500\n",
      "772.5\n",
      "iter 403/500\n",
      "1002.0\n",
      "iter 404/500\n",
      "966.1\n",
      "iter 405/500\n",
      "885.3\n",
      "iter 406/500\n",
      "965.4\n",
      "iter 407/500\n",
      "977.8\n",
      "iter 408/500\n",
      "933.5\n",
      "iter 409/500\n",
      "969.8\n",
      "iter 410/500\n",
      "932.6\n",
      "iter 411/500\n",
      "473.4\n",
      "iter 412/500\n",
      "727.7\n",
      "iter 413/500\n",
      "913.1\n",
      "iter 414/500\n",
      "997.7\n",
      "iter 415/500\n",
      "851.6\n",
      "iter 416/500\n",
      "914.1\n",
      "iter 417/500\n",
      "950.7\n",
      "iter 418/500\n",
      "816.6\n",
      "iter 419/500\n",
      "888.1\n",
      "iter 420/500\n",
      "973.3\n",
      "iter 421/500\n",
      "705.4\n",
      "iter 422/500\n",
      "954.9\n",
      "iter 423/500\n",
      "947.8\n",
      "iter 424/500\n",
      "894.4\n",
      "iter 425/500\n",
      "952.8\n",
      "iter 426/500\n",
      "979.1\n",
      "iter 427/500\n",
      "936.2\n",
      "iter 428/500\n",
      "768.7\n",
      "iter 429/500\n",
      "695.1\n",
      "iter 430/500\n",
      "874.2\n",
      "iter 431/500\n",
      "780.9\n",
      "iter 432/500\n",
      "894.4\n",
      "iter 433/500\n",
      "994.5\n",
      "iter 434/500\n",
      "927.4\n",
      "iter 435/500\n",
      "847.6\n",
      "iter 436/500\n",
      "799.6\n",
      "iter 437/500\n",
      "941.9\n",
      "iter 438/500\n",
      "961.4\n",
      "iter 439/500\n",
      "842.3\n",
      "iter 440/500\n",
      "907.3\n",
      "iter 441/500\n",
      "921.7\n",
      "iter 442/500\n",
      "934.2\n",
      "iter 443/500\n",
      "767.4\n",
      "iter 444/500\n",
      "943.7\n",
      "iter 445/500\n",
      "837.6\n",
      "iter 446/500\n",
      "928.8\n",
      "iter 447/500\n",
      "758.6\n",
      "iter 448/500\n",
      "812.0\n",
      "iter 449/500\n",
      "922.4\n",
      "iter 450/500\n",
      "706.5\n",
      "iter 451/500\n",
      "801.4\n",
      "iter 452/500\n",
      "870.8\n",
      "iter 453/500\n",
      "786.5\n",
      "iter 454/500\n",
      "947.5\n",
      "iter 455/500\n",
      "667.5\n",
      "iter 456/500\n",
      "828.6\n",
      "iter 457/500\n",
      "937.2\n",
      "iter 458/500\n",
      "909.1\n",
      "iter 459/500\n",
      "700.7\n",
      "iter 460/500\n",
      "777.2\n",
      "iter 461/500\n",
      "339.9\n",
      "iter 462/500\n",
      "927.7\n",
      "iter 463/500\n",
      "617.8\n",
      "iter 464/500\n",
      "841.7\n",
      "iter 465/500\n",
      "785.0\n",
      "iter 466/500\n",
      "915.5\n",
      "iter 467/500\n",
      "821.9\n",
      "iter 468/500\n",
      "968.5\n",
      "iter 469/500\n",
      "779.8\n",
      "iter 470/500\n",
      "833.8\n",
      "iter 471/500\n",
      "901.9\n",
      "iter 472/500\n",
      "795.4\n",
      "iter 473/500\n",
      "961.4\n",
      "iter 474/500\n",
      "881.0\n",
      "iter 475/500\n",
      "763.9\n",
      "iter 476/500\n",
      "747.5\n",
      "iter 477/500\n",
      "528.7\n",
      "iter 478/500\n",
      "862.1\n",
      "iter 479/500\n",
      "859.8\n",
      "iter 480/500\n",
      "817.2\n",
      "iter 481/500\n",
      "775.0\n",
      "iter 482/500\n",
      "964.0\n",
      "iter 483/500\n",
      "917.1\n",
      "iter 484/500\n",
      "767.4\n",
      "iter 485/500\n",
      "867.0\n",
      "iter 486/500\n",
      "938.9\n",
      "iter 487/500\n",
      "905.8\n",
      "iter 488/500\n",
      "840.3\n",
      "iter 489/500\n",
      "910.2\n",
      "iter 490/500\n",
      "880.9\n",
      "iter 491/500\n",
      "938.4\n",
      "iter 492/500\n",
      "898.2\n",
      "iter 493/500\n",
      "821.2\n",
      "iter 494/500\n",
      "801.7\n",
      "iter 495/500\n",
      "751.9\n",
      "iter 496/500\n",
      "911.0\n",
      "iter 497/500\n",
      "904.7\n",
      "iter 498/500\n",
      "841.6\n",
      "iter 499/500\n",
      "840.0\n",
      "iter 500/500\n",
      "918.1\n"
     ]
    }
   ],
   "source": [
    "ce_agent.search(CartPole(), 500)"
   ]
  },
  {
   "cell_type": "code",
   "execution_count": null,
   "metadata": {},
   "outputs": [],
   "source": []
  }
 ],
 "metadata": {
  "kernelspec": {
   "display_name": "rlassignment",
   "language": "python",
   "name": "python3"
  },
  "language_info": {
   "codemirror_mode": {
    "name": "ipython",
    "version": 3
   },
   "file_extension": ".py",
   "mimetype": "text/x-python",
   "name": "python",
   "nbconvert_exporter": "python",
   "pygments_lexer": "ipython3",
   "version": "3.10.13"
  }
 },
 "nbformat": 4,
 "nbformat_minor": 2
}

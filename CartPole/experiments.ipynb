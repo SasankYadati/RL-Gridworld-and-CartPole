{
 "cells": [
  {
   "cell_type": "code",
   "execution_count": 1,
   "metadata": {},
   "outputs": [],
   "source": [
    "from cart_pole import CartPole\n",
    "from agent import ParameterizedPolicyAgent"
   ]
  },
  {
   "cell_type": "code",
   "execution_count": 2,
   "metadata": {},
   "outputs": [],
   "source": [
    "ALPHA = 0.9\n",
    "EPS = 1e-1\n",
    "pp_agent = ParameterizedPolicyAgent(ALPHA, EPS)"
   ]
  },
  {
   "cell_type": "code",
   "execution_count": 3,
   "metadata": {},
   "outputs": [
    {
     "name": "stdout",
     "output_type": "stream",
     "text": [
      "trial=0, avg return=38.42\n",
      "trial=4, avg return=38.48\n",
      "trial=5, avg return=43.02\n",
      "trial=6, avg return=59.22\n",
      "trial=10, avg return=89.34\n",
      "trial=41, avg return=98.08\n",
      "trial=42, avg return=109.94\n",
      "trial=56, avg return=123.9\n",
      "trial=61, avg return=124.14\n",
      "trial=95, avg return=137.98\n",
      "trial=112, avg return=139.24\n",
      "trial=126, avg return=144.86\n",
      "trial=174, avg return=145.56\n",
      "trial=186, avg return=151.8\n",
      "trial=192, avg return=152.14\n",
      "trial=220, avg return=160.86\n",
      "trial=236, avg return=168.6\n",
      "trial=241, avg return=171.32\n",
      "trial=262, avg return=184.26\n",
      "trial=286, avg return=186.24\n"
     ]
    }
   ],
   "source": [
    "pp_agent.hillSearch(CartPole(), 50, 500)"
   ]
  }
 ],
 "metadata": {
  "kernelspec": {
   "display_name": "rlassignment",
   "language": "python",
   "name": "python3"
  },
  "language_info": {
   "codemirror_mode": {
    "name": "ipython",
    "version": 3
   },
   "file_extension": ".py",
   "mimetype": "text/x-python",
   "name": "python",
   "nbconvert_exporter": "python",
   "pygments_lexer": "ipython3",
   "version": "3.10.13"
  }
 },
 "nbformat": 4,
 "nbformat_minor": 2
}

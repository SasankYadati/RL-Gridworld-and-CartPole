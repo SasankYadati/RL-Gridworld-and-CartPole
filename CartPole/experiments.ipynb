{
 "cells": [
  {
   "cell_type": "code",
   "execution_count": 1,
   "metadata": {},
   "outputs": [],
   "source": [
    "from cart_pole import CartPole\n",
    "from agent import ParameterizedPolicyAgent"
   ]
  },
  {
   "cell_type": "code",
   "execution_count": 11,
   "metadata": {},
   "outputs": [],
   "source": [
    "ALPHA = 0.99\n",
    "EPS = 1e-1\n",
    "pp_agent = ParameterizedPolicyAgent(ALPHA, EPS)"
   ]
  },
  {
   "cell_type": "code",
   "execution_count": 12,
   "metadata": {},
   "outputs": [
    {
     "name": "stdout",
     "output_type": "stream",
     "text": [
      "trial=0, avg return=48.06\n",
      "trial=2, avg return=83.24\n",
      "trial=3, avg return=121.36\n",
      "trial=7, avg return=122.62\n",
      "trial=10, avg return=130.74\n",
      "trial=14, avg return=147.44\n",
      "trial=17, avg return=160.44\n",
      "trial=51, avg return=161.58\n",
      "trial=56, avg return=162.38\n",
      "trial=58, avg return=165.5\n",
      "trial=60, avg return=194.94\n",
      "trial=61, avg return=216.0\n",
      "trial=70, avg return=216.88\n",
      "trial=72, avg return=231.96\n",
      "trial=84, avg return=237.34\n",
      "trial=94, avg return=386.82\n",
      "trial=109, avg return=1001.44\n"
     ]
    }
   ],
   "source": [
    "pp_agent.hillSearch(CartPole(), 50, 500)"
   ]
  },
  {
   "cell_type": "code",
   "execution_count": null,
   "metadata": {},
   "outputs": [],
   "source": [
    "from agent import run_trial"
   ]
  },
  {
   "cell_type": "code",
   "execution_count": null,
   "metadata": {},
   "outputs": [
    {
     "data": {
      "text/plain": [
       "233.82"
      ]
     },
     "execution_count": 10,
     "metadata": {},
     "output_type": "execute_result"
    }
   ],
   "source": [
    "avg_ret = sum(run_trial(pp_agent, CartPole(), 50)) / 50\n",
    "avg_ret"
   ]
  },
  {
   "cell_type": "code",
   "execution_count": null,
   "metadata": {},
   "outputs": [],
   "source": []
  }
 ],
 "metadata": {
  "kernelspec": {
   "display_name": "rlassignment",
   "language": "python",
   "name": "python3"
  },
  "language_info": {
   "codemirror_mode": {
    "name": "ipython",
    "version": 3
   },
   "file_extension": ".py",
   "mimetype": "text/x-python",
   "name": "python",
   "nbconvert_exporter": "python",
   "pygments_lexer": "ipython3",
   "version": "3.10.13"
  }
 },
 "nbformat": 4,
 "nbformat_minor": 2
}
